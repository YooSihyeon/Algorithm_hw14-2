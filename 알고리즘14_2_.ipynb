{
  "nbformat": 4,
  "nbformat_minor": 0,
  "metadata": {
    "colab": {
      "provenance": []
    },
    "kernelspec": {
      "name": "python3",
      "display_name": "Python 3"
    },
    "language_info": {
      "name": "python"
    }
  },
  "cells": [
    {
      "cell_type": "code",
      "source": [
        "# 문제 1번\n",
        "# deque 패키지 import\n",
        "from collections import deque\n",
        "\n",
        "# BFS 탐색\n",
        "def bfs(start):\n",
        "    visited = []\n",
        "    # queue 생성\n",
        "    queue = deque([start])\n",
        "\n",
        "    while queue:\n",
        "        # 왼쪽 부터 탐색\n",
        "        node = queue.popleft()\n",
        "        # 방문 노트 확인 -> 중복 방문 방지\n",
        "        if node not in visited:\n",
        "            # 방문 리스트에 추가\n",
        "            visited.append(node)\n",
        "            # node → graph[node]로 수정\n",
        "            queue.extend(graph[node])\n",
        "\n",
        "    # 방문 노트 return\n",
        "    return visited\n",
        "\n",
        "# graph 입력\n",
        "graph = {\n",
        "    1: [2],\n",
        "    2: [1, 3],\n",
        "    3: [2],\n",
        "    4: [5],\n",
        "    5: [4],\n",
        "    6: []\n",
        "}\n",
        "\n",
        "query_person = 2\n",
        "\n",
        "# 실행\n",
        "num_friends = len(bfs(query_person))\n",
        "friends_node = bfs(query_person)\n",
        "# 숫자 리스트를 문자열로 변환 (출력에 용이하게 하기 위함)\n",
        "friends_str = \", \".join(str(x) for x in friends_node)\n",
        "\n",
        "#출력\n",
        "print(f\"{num_friends}, ({friends_str})\")"
      ],
      "metadata": {
        "colab": {
          "base_uri": "https://localhost:8080/"
        },
        "id": "jUau1jERNO2n",
        "outputId": "23866794-a6b1-4f00-bca8-47f7fe90921e"
      },
      "execution_count": 50,
      "outputs": [
        {
          "output_type": "stream",
          "name": "stdout",
          "text": [
            "3, (2, 1, 3)\n"
          ]
        }
      ]
    },
    {
      "cell_type": "code",
      "source": [
        "# 문제 2번\n",
        "from collections import deque\n",
        "\n",
        "# BFS 탐색\n",
        "def bfs(start):\n",
        "    visited = []\n",
        "    # 깊이 저장 딕셔너리 생성\n",
        "    depth = {}\n",
        "    # (노드 번호, 깊이)\n",
        "    queue = deque([(start, 0)])\n",
        "\n",
        "    while queue:\n",
        "        node, d = queue.popleft()\n",
        "        if node not in visited:\n",
        "          visited.append(node)\n",
        "          depth[node] = d\n",
        "        # 이웃 노드 탐색\n",
        "        for neighbor in graph[node]:\n",
        "            if neighbor not in visited:\n",
        "              # queue 추가\n",
        "                queue.append((neighbor, d+1))\n",
        "\n",
        "    # depth 계산 결과 추가\n",
        "    return depth\n",
        "\n",
        "# 입력\n",
        "N = 5\n",
        "edges = [(1,2), (1,3), (2,4), (3,5)]\n",
        "\n",
        "# 그래프 생성\n",
        "graph = {i: [] for i in range(1, N+1)}\n",
        "for a, b in edges:\n",
        "    graph[a].append(b)\n",
        "    graph[b].append(a)\n",
        "\n",
        "# BFS 실행 (1번 부터 탐색)\n",
        "depth = bfs(1)\n",
        "\n",
        "# 결과 출력\n",
        "for i in range(1, N+1):\n",
        "    print(f\"node {i}: {depth[i]}\")"
      ],
      "metadata": {
        "colab": {
          "base_uri": "https://localhost:8080/"
        },
        "id": "VFQjn0Uau7sU",
        "outputId": "b267b73f-a04d-4849-af07-7e6dbad82e0a"
      },
      "execution_count": 51,
      "outputs": [
        {
          "output_type": "stream",
          "name": "stdout",
          "text": [
            "node 1: 0\n",
            "node 2: 1\n",
            "node 3: 1\n",
            "node 4: 2\n",
            "node 5: 2\n"
          ]
        }
      ]
    },
    {
      "cell_type": "code",
      "source": [
        "# 문제 3번\n",
        "\n",
        "# item 리스트 생성 (무게, 가치)\n",
        "items = [(10,60),(20,100),(30,120)]\n",
        "\n",
        "# 최대 무게 설정 (50)\n",
        "max_weight = 50\n",
        "\n",
        "# 가치/무게 비율로 기준을 정함 -> 기준이 높은 순으로 출력\n",
        "items.sort(key=lambda x: x[1]/x[0], reverse =True)\n",
        "\n",
        "# 현재 무게는 0으로 설정\n",
        "current_weight = 0\n",
        "\n",
        "# 선택한 item을 담는 리스트 생성\n",
        "selected_items = []\n",
        "# 최종 가치 설정 (0으로 설정했다가 늘리기)\n",
        "total_value = 0.0\n",
        "\n",
        "for weight, value in items :\n",
        "  # 현재 무게 + 추가된 무게 가 50을 넘지 않을 경우\n",
        "  if current_weight + weight <= max_weight:\n",
        "    # 해당 아이템을 선택\n",
        "    selected_items.append((weight, value))\n",
        "    # 최근 무게 업데이트\n",
        "    current_weight += weight\n",
        "    # 최종 가치 업데이트\n",
        "    total_value += value\n",
        "  else:\n",
        "    # 남은 무게 계산\n",
        "    remain = max_weight - current_weight\n",
        "    # 부분 가치 계산하여 추가할 아이템 계산\n",
        "    fraction_value = (value / weight) * remain\n",
        "    # 추가 아이템 선택\n",
        "    selected_items.append((remain, fraction_value))\n",
        "    total_value += fraction_value\n",
        "    # 더이상 선택 못하면 탈출\n",
        "    break\n",
        "\n",
        "#최종 가치 출력\n",
        "print(total_value)"
      ],
      "metadata": {
        "colab": {
          "base_uri": "https://localhost:8080/"
        },
        "id": "sHtp_xehZyQU",
        "outputId": "78881d51-0e9a-4af4-b9a6-bddcb9776ad3"
      },
      "execution_count": 32,
      "outputs": [
        {
          "output_type": "stream",
          "name": "stdout",
          "text": [
            "240.0\n"
          ]
        }
      ]
    },
    {
      "cell_type": "code",
      "source": [
        "# 문제 4번\n",
        "\n",
        "# 업무 관련 정보 입력\n",
        "# (소요시간, 마감시간)\n",
        "tasks = [(3,4),(2,2),(1,3)]\n",
        "\n",
        "# 작업에 번호 부여 (번호, 작업 시간, 마감 시간)\n",
        "tasks = [(i+1, t[0], t[1]) for i,t in enumerate(tasks)]\n",
        "\n",
        "# 마감시간 기준 오름차순 정렬\n",
        "tasks.sort(key=lambda x: x[2])\n",
        "\n",
        "# 초기값 설정\n",
        "current_time = 0\n",
        "total_lateness = 0\n",
        "order = []\n",
        "\n",
        "# 작업을 돌아가면서 계산\n",
        "for idx, duration, due in tasks:\n",
        "    # 현재 시간 에 작업 시간 추가\n",
        "    current_time += duration\n",
        "    # 지연된 시간 계산\n",
        "    lateness = max(0, current_time - due)\n",
        "    # 최종 지연 시간에 추가\n",
        "    total_lateness += lateness\n",
        "    # 순서 리스트에 작업 번호 추가\n",
        "    order.append(idx)\n",
        "\n",
        "# 결과 출력\n",
        "print(\"작업 순서:\", order)\n",
        "print(\"총 지연:\", total_lateness)"
      ],
      "metadata": {
        "colab": {
          "base_uri": "https://localhost:8080/"
        },
        "id": "iIXRPSVtcL0A",
        "outputId": "16f6cd01-d4b8-4ece-9712-68c3e8b04aa7"
      },
      "execution_count": 37,
      "outputs": [
        {
          "output_type": "stream",
          "name": "stdout",
          "text": [
            "작업 순서: [2, 3, 1]\n",
            "총 지연: 2\n"
          ]
        }
      ]
    },
    {
      "cell_type": "code",
      "source": [
        "# 문제 5번\n",
        "\n",
        "# 사용할 수 있는 동전의 단위\n",
        "coins = [1, 3, 5]\n",
        "\n",
        "# 목표 금액\n",
        "target = 11\n",
        "\n",
        "# dp[i]는 i원을 만드는데 필요한 최소 동전 개수를 저장\n",
        "dp = [float('inf')] * (target + 1)\n",
        "\n",
        "# track[i]는 i원을 만들 때 마지막으로 사용한 동전 기록\n",
        "track = [-1] * (target + 1)\n",
        "\n",
        "# 금액 0원\n",
        "dp[0] = 0\n",
        "\n",
        "# DP 갱신\n",
        "for coin in coins:\n",
        "    for i in range(coin, target + 1):\n",
        "        if dp[i - coin] + 1 < dp[i]:\n",
        "            dp[i] = dp[i - coin] + 1\n",
        "            # 동전 기록 추가\n",
        "            track[i] = coin\n",
        "\n",
        "# 최소 동전 개수 저장\n",
        "min_coins = dp[target]\n",
        "\n",
        "# 사용한 동전 구성 출력 (역으로 추적하여 저장)\n",
        "coins_used = []\n",
        "t = target\n",
        "while t > 0:\n",
        "    coin = track[t]\n",
        "    coins_used.append(coin)\n",
        "    t -= coin\n",
        "\n",
        "# 큰 동전부터 보기 좋게 출력\n",
        "print(f\"{min_coins}({'+'.join(map(str, coins_used))})\")\n"
      ],
      "metadata": {
        "colab": {
          "base_uri": "https://localhost:8080/"
        },
        "id": "l4vptNjadteQ",
        "outputId": "dd5c7caa-dc5a-47cf-ea49-93a6426dade1"
      },
      "execution_count": 46,
      "outputs": [
        {
          "output_type": "stream",
          "name": "stdout",
          "text": [
            "3(5+3+3)\n"
          ]
        }
      ]
    },
    {
      "cell_type": "code",
      "source": [
        "# 문제 6번\n",
        "\n",
        "def LCS(A, B):\n",
        "    n = len(A)\n",
        "    m = len(B)\n",
        "\n",
        "    # 2차원 DP 테이블 생성\n",
        "    dp = [[0] * (m+1) for _ in range(n+1)]\n",
        "\n",
        "    # DP 테이블 채우기\n",
        "    for i in range(1, n+1):\n",
        "        for j in range(1, m+1):\n",
        "            if A[i-1] == B[j-1]:\n",
        "              # 문자 같으면 대각선 +1\n",
        "                dp[i][j] = dp[i-1][j-1] + 1\n",
        "            else:\n",
        "                # 아니면 왼쪽 or 위 중 큰 값\n",
        "                dp[i][j] = max(dp[i-1][j], dp[i][j-1])\n",
        "\n",
        "    # 가장 긴 길이와 DP 테이블 반환\n",
        "    return dp[n][m], dp\n",
        "\n",
        "\n",
        "# 입력 문자열\n",
        "A = \"ABCBDAB\"\n",
        "B = \"BDCABA\"\n",
        "\n",
        "length, dp_table = LCS(A, B)\n",
        "print(length)"
      ],
      "metadata": {
        "colab": {
          "base_uri": "https://localhost:8080/"
        },
        "id": "iINqu5o1gBdc",
        "outputId": "724ebb10-d4ef-441f-9585-f8972b46dc60"
      },
      "execution_count": 49,
      "outputs": [
        {
          "output_type": "stream",
          "name": "stdout",
          "text": [
            "4\n"
          ]
        }
      ]
    }
  ]
}